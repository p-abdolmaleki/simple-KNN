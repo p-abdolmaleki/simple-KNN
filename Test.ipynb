{
 "cells": [
  {
   "cell_type": "code",
   "execution_count": 5,
   "id": "209c861f-ffc7-4b3e-a4ae-963a84f4050c",
   "metadata": {},
   "outputs": [],
   "source": [
    "from KNN import KNN\n",
    "from sklearn.datasets import load_iris\n",
    "from sklearn.model_selection import train_test_split\n",
    "from sklearn.metrics import accuracy_score\n",
    "from matplotlib import pyplot as plt"
   ]
  },
  {
   "cell_type": "code",
   "execution_count": 7,
   "id": "a41bb56b-8416-4ae6-99b4-afb18bd91c99",
   "metadata": {},
   "outputs": [
    {
     "name": "stdout",
     "output_type": "stream",
     "text": [
      "Accuracy score for train data: 0.9666666666666667\n",
      "Accuracy score for test data: 1.0\n"
     ]
    }
   ],
   "source": [
    "iris = load_iris()\n",
    "X, y = iris.data, iris.target\n",
    "X_train, X_test, y_train, y_test = train_test_split(X, y, test_size=0.2, random_state=42)\n",
    "knn_cls = KNN(n_neighbors=5)\n",
    "knn_cls.fit(X_train, y_train)\n",
    "y_pred = knn_cls.predict(X_train)\n",
    "print('Accuracy score for train data:', accuracy_score(y_train, y_pred))\n",
    "y_pred = knn_cls.predict(X_test)\n",
    "print('Accuracy score for test data:', accuracy_score(y_test, y_pred))"
   ]
  }
 ],
 "metadata": {
  "kernelspec": {
   "display_name": "Python 3 (ipykernel)",
   "language": "python",
   "name": "python3"
  },
  "language_info": {
   "codemirror_mode": {
    "name": "ipython",
    "version": 3
   },
   "file_extension": ".py",
   "mimetype": "text/x-python",
   "name": "python",
   "nbconvert_exporter": "python",
   "pygments_lexer": "ipython3",
   "version": "3.9.18"
  }
 },
 "nbformat": 4,
 "nbformat_minor": 5
}
